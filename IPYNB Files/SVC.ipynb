{
 "cells": [
  {
   "cell_type": "code",
   "execution_count": 1,
   "metadata": {},
   "outputs": [],
   "source": [
    "import pandas as pd\n",
    "import numpy as np\n",
    "import matplotlib.pyplot as plt\n",
    "%matplotlib inline\n",
    "import seaborn as sns\n",
    "import re\n",
    "from nltk.corpus import stopwords\n",
    "import pickle\n",
    "from sklearn import metrics"
   ]
  },
  {
   "cell_type": "code",
   "execution_count": 2,
   "metadata": {},
   "outputs": [
    {
     "data": {
      "text/plain": [
       "(8432, 12)"
      ]
     },
     "execution_count": 2,
     "metadata": {},
     "output_type": "execute_result"
    }
   ],
   "source": [
    "IT_Ticket_cleaned = pd.read_excel('Cleaned_data.xlsx')\n",
    "IT_Ticket_cleaned.shape"
   ]
  },
  {
   "cell_type": "code",
   "execution_count": 3,
   "metadata": {},
   "outputs": [],
   "source": [
    "Empty_Rows = IT_Ticket_cleaned[IT_Ticket_cleaned.isnull().any(axis=1)].index\n",
    "IT_Ticket_cleaned.drop(Empty_Rows,axis = 0,inplace = True)"
   ]
  },
  {
   "cell_type": "code",
   "execution_count": 4,
   "metadata": {},
   "outputs": [
    {
     "data": {
      "text/plain": [
       "array(['GRP_0', 'GRP_1', 'GRP_3', 'GRP_4', 'GRP_5', 'GRP_6', 'GRP_7',\n",
       "       'GRP_8', 'GRP_9', 'GRP_10', 'GRP_11', 'GRP_12', 'GRP_13', 'GRP_14',\n",
       "       'GRP_15', 'GRP_16', 'GRP_17', 'GRP_18', 'GRP_19', 'GRP_2',\n",
       "       'GRP_20', 'GRP_21', 'GRP_22', 'GRP_23', 'GRP_24', 'GRP_25',\n",
       "       'GRP_26', 'GRP_27', 'GRP_28', 'GRP_29', 'GRP_30', 'GRP_31',\n",
       "       'GRP_33', 'GRP_34', 'GRP_35', 'GRP_36', 'GRP_37', 'GRP_38',\n",
       "       'GRP_39', 'GRP_40', 'GRP_41', 'GRP_42', 'GRP_43', 'GRP_44',\n",
       "       'GRP_45', 'GRP_46', 'GRP_47', 'GRP_49', 'GRP_50', 'GRP_51',\n",
       "       'GRP_52', 'GRP_53', 'GRP_54', 'GRP_55', 'GRP_56', 'GRP_57',\n",
       "       'GRP_58', 'GRP_59', 'GRP_60', 'GRP_61', 'GRP_32', 'GRP_62',\n",
       "       'GRP_63', 'GRP_64', 'GRP_48', 'GRP_65', 'GRP_66', 'GRP_67',\n",
       "       'GRP_68', 'GRP_69', 'GRP_70', 'GRP_71', 'GRP_72', 'GRP_73'],\n",
       "      dtype=object)"
      ]
     },
     "execution_count": 4,
     "metadata": {},
     "output_type": "execute_result"
    }
   ],
   "source": [
    "IT_Ticket_cleaned['Assignment group'].unique()"
   ]
  },
  {
   "cell_type": "code",
   "execution_count": 5,
   "metadata": {},
   "outputs": [],
   "source": [
    "from sklearn.model_selection import train_test_split\n",
    "x_train,x_test,y_train,y_test = train_test_split(IT_Ticket_cleaned['Cleaned'],IT_Ticket_cleaned['Assignment group'],test_size=0.25,random_state=10)"
   ]
  },
  {
   "cell_type": "code",
   "execution_count": 6,
   "metadata": {},
   "outputs": [],
   "source": [
    "import pickle\n",
    "for i in range(6):\n",
    "    pickled = open(\"elmo_full_train_\" + str(i+1) +\".pickle\",\"rb\")\n",
    "    temp = pickle.load(pickled)\n",
    "    if i == 0:\n",
    "        elmo_train_vectors = temp\n",
    "    else:\n",
    "        elmo_train_vectors = np.concatenate((elmo_train_vectors,temp), axis = 0)"
   ]
  },
  {
   "cell_type": "code",
   "execution_count": 7,
   "metadata": {},
   "outputs": [],
   "source": [
    "for i in range(6):\n",
    "    pickled = open(\"elmo_full_test_\" + str(i+1) +\".pickle\",\"rb\")\n",
    "    temp = pickle.load(pickled)\n",
    "    if i == 0:\n",
    "        elmo_test_vectors = temp\n",
    "    else:\n",
    "        elmo_test_vectors = np.concatenate((elmo_test_vectors,temp), axis = 0)"
   ]
  },
  {
   "cell_type": "code",
   "execution_count": 8,
   "metadata": {},
   "outputs": [
    {
     "data": {
      "text/plain": [
       "(2100, 1024)"
      ]
     },
     "execution_count": 8,
     "metadata": {},
     "output_type": "execute_result"
    }
   ],
   "source": [
    "elmo_test_vectors.shape"
   ]
  },
  {
   "cell_type": "code",
   "execution_count": 9,
   "metadata": {},
   "outputs": [],
   "source": [
    "X = np.concatenate((elmo_train_vectors,elmo_test_vectors), axis = 0)\n",
    "Y = np.concatenate((y_train,y_test),axis = 0)"
   ]
  },
  {
   "cell_type": "code",
   "execution_count": 10,
   "metadata": {},
   "outputs": [],
   "source": [
    "# Preparing Dataframe for top 8 and Top 10\n",
    "ELmo_df = pd.DataFrame(X)\n",
    "ELmo_df['Assignment Group'] = Y"
   ]
  },
  {
   "cell_type": "code",
   "execution_count": 11,
   "metadata": {},
   "outputs": [],
   "source": [
    "from sklearn.preprocessing import LabelEncoder\n",
    "label_enc = LabelEncoder()\n",
    "Y = label_enc.fit_transform(Y)"
   ]
  },
  {
   "cell_type": "markdown",
   "metadata": {},
   "source": [
    "# 74 classes"
   ]
  },
  {
   "cell_type": "code",
   "execution_count": 12,
   "metadata": {},
   "outputs": [],
   "source": [
    "from sklearn.model_selection import train_test_split\n",
    "\n",
    "x_train,x_test,y_train,y_test = train_test_split(ELmo_df.drop(['Assignment Group'],axis =1),Y,test_size=0.25,random_state=10)"
   ]
  },
  {
   "cell_type": "code",
   "execution_count": 13,
   "metadata": {},
   "outputs": [],
   "source": [
    "# Scaling the data \n",
    "from sklearn.preprocessing import StandardScaler\n",
    "enc = StandardScaler()\n",
    "# Fitting Train Data to prevent data leakage\n",
    "enc.fit(x_train,y_train)\n",
    "# Transforming to scale the data\n",
    "x_train = enc.transform(x_train)\n",
    "x_test = enc.transform(x_test)"
   ]
  },
  {
   "cell_type": "code",
   "execution_count": 14,
   "metadata": {},
   "outputs": [],
   "source": [
    "# from imblearn.over_sampling import SMOTE\n",
    "# # transform the dataset\n",
    "# oversample = SMOTE()\n",
    "# x_train,y_train = oversample.fit_resample(x_train,y_train)"
   ]
  },
  {
   "cell_type": "code",
   "execution_count": 15,
   "metadata": {},
   "outputs": [
    {
     "name": "stdout",
     "output_type": "stream",
     "text": [
      "[0.78049153 0.8063005  0.82568085 0.8385272  0.8489189  0.8578714\n",
      " 0.8662109  0.8721605  0.87764484 0.88227165 0.8860115  0.8895359\n",
      " 0.89282036 0.89596635 0.8989017  0.90163285 0.9040718  0.906353\n",
      " 0.9086069  0.9107318  0.91252774 0.9142648  0.91595936 0.917526\n",
      " 0.9190472  0.92052126 0.92185044 0.923144   0.9243873  0.9256188\n",
      " 0.9268407  0.9280126  0.9291342  0.93023705 0.9313197  0.93238294\n",
      " 0.93338037 0.9343536  0.93529844 0.9362303  0.9371415  0.93803173\n",
      " 0.9388995  0.9397447  0.94058484 0.9414172  0.9422189  0.94299644\n",
      " 0.9437634  0.94450516 0.94521916 0.945918   0.94659984 0.9472729\n",
      " 0.9479392  0.94859415 0.9492314  0.9498605  0.9504666  0.95105636\n",
      " 0.95164096 0.9522197  0.95278025 0.9533335  0.9538686  0.9543882\n",
      " 0.95490104 0.9554042  0.95590025 0.95639074 0.95687425 0.9573469\n",
      " 0.9578117  0.9582689  0.9587164  0.95915884 0.95959485 0.96002865\n",
      " 0.9604592  0.96087766 0.96129376 0.9617007  0.962102   0.96248734\n",
      " 0.96287    0.9632409  0.96360946 0.9639738  0.96433324 0.9646855\n",
      " 0.96503264 0.9653757  0.96571416 0.96604985 0.96637666 0.96669626\n",
      " 0.96701217 0.96732605 0.96763563 0.96793926 0.9682415  0.96853983\n",
      " 0.96883285 0.9691213  0.9694062  0.96968967 0.9699682  0.9702458\n",
      " 0.97051734 0.97078675 0.97105455 0.9713196  0.9715814  0.9718388\n",
      " 0.9720918  0.97234285 0.97258663 0.97282916 0.97306794 0.97330445\n",
      " 0.97353894 0.9737678  0.97399503 0.9742201  0.97444165 0.9746622\n",
      " 0.9748807  0.97509724 0.9753096  0.97551954 0.9757275  0.9759343\n",
      " 0.9761383  0.97633916 0.97653866 0.9767348  0.9769267  0.9771165\n",
      " 0.9773053  0.9774922  0.9776772  0.9778592  0.9780402  0.9782182\n",
      " 0.9783946  0.9785707  0.9787452  0.9789174  0.97908753 0.9792573\n",
      " 0.97942406 0.9795883  0.9797514  0.9799132  0.9800734  0.98023164\n",
      " 0.98038894 0.9805456  0.98069924 0.9808525  0.9810028  0.98115176\n",
      " 0.9812969  0.98144144 0.9815835  0.9817252  0.9818657  0.9820044\n",
      " 0.9821414  0.9822775  0.9824116  0.9825434  0.98267454 0.98280513\n",
      " 0.9829355  0.98306304 0.98318875 0.9833133  0.98343664 0.9835588\n",
      " 0.9836795  0.98379844 0.98391736 0.9840358  0.98415166 0.9842663\n",
      " 0.98437893 0.98449075 0.98460054 0.984709   0.98481625 0.9849227\n",
      " 0.98502845 0.9851338  0.9852382  0.9853414  0.9854442  0.98554397\n",
      " 0.9856427  0.9857403 ]\n"
     ]
    },
    {
     "data": {
      "image/png": "[encoded data removed]",
      "text/plain": [
       "<Figure size 720x720 with 1 Axes>"
      ]
     },
     "metadata": {
      "needs_background": "light"
     },
     "output_type": "display_data"
    }
   ],
   "source": [
    "# Intializing the PCA model\n",
    "from sklearn.decomposition import PCA\n",
    "# Setting the value of n_components to 15 to get complete variance of the data set\n",
    "pca = PCA(n_components= 200,random_state = 7)\n",
    "pca.fit(x_train) #\n",
    "plt.figure(figsize=(10,10))\n",
    "plt.bar(np.arange(1,201),pca.explained_variance_ratio_)\n",
    "# plt.step(np.arange(1,1025),np.cumsum(pca.explained_variance_ratio_))\n",
    "print(np.cumsum(pca.explained_variance_ratio_))"
   ]
  },
  {
   "cell_type": "code",
   "execution_count": 16,
   "metadata": {},
   "outputs": [
    {
     "data": {
      "text/plain": [
       "PCA(n_components=200, random_state=7)"
      ]
     },
     "execution_count": 16,
     "metadata": {},
     "output_type": "execute_result"
    }
   ],
   "source": [
    "# Setting the value of n_components to 7 to get 95% variance of the data set\n",
    "pca = PCA(n_components= 200,random_state = 7)\n",
    "pca.fit(x_train)"
   ]
  },
  {
   "cell_type": "code",
   "execution_count": 17,
   "metadata": {},
   "outputs": [],
   "source": [
    "# Transforming the training , validation and test sets in the new selected attributes\n",
    "x_train = pca.transform(x_train)\n",
    "x_test = pca.transform(x_test)"
   ]
  },
  {
   "cell_type": "code",
   "execution_count": 18,
   "metadata": {},
   "outputs": [
    {
     "name": "stdout",
     "output_type": "stream",
     "text": [
      "SVM Classifier score = 0.5989202921562401\n",
      "SVM Classifier score = 0.5771428571428572\n"
     ]
    }
   ],
   "source": [
    "# Intialising the model\n",
    "from sklearn.svm import SVC\n",
    "svm = SVC(probability= True)\n",
    "\n",
    "# Checking the accuracy of the model on training data\n",
    "svm.fit(x_train,y_train)\n",
    "print('SVM Classifier score = ' + str(svm.score(x_train,y_train)))\n",
    "print('SVM Classifier score = ' + str(svm.score(x_test,y_test)))\n",
    "\n"
   ]
  },
  {
   "cell_type": "markdown",
   "metadata": {},
   "source": [
    "# Top 8"
   ]
  },
  {
   "cell_type": "code",
   "execution_count": 19,
   "metadata": {},
   "outputs": [
    {
     "name": "stdout",
     "output_type": "stream",
     "text": [
      "66 Groups in dataset have less than 100 samples\n"
     ]
    }
   ],
   "source": [
    "# Selecting the Groups having more than 100 Indiviual records\n",
    "Counts = pd.DataFrame(ELmo_df['Assignment Group'].value_counts())\n",
    "Others = []\n",
    "for Group in ELmo_df['Assignment Group'].unique():\n",
    "    if Counts.loc[Group][0] < 195:\n",
    "        Others.append(Group)\n",
    "print('{0} Groups in dataset have less than 100 samples'.format(len(Others)))\n",
    "\n",
    "ELmo_df['Assignment RE-group'] =ELmo_df['Assignment Group'].apply(lambda x: 'Others' if x in Others else x)"
   ]
  },
  {
   "cell_type": "code",
   "execution_count": 20,
   "metadata": {},
   "outputs": [],
   "source": [
    "Top_8 = ELmo_df[ELmo_df['Assignment RE-group'] != 'Others']"
   ]
  },
  {
   "cell_type": "code",
   "execution_count": 21,
   "metadata": {},
   "outputs": [
    {
     "data": {
      "text/plain": [
       "array(['GRP_9', 'GRP_0', 'GRP_19', 'GRP_24', 'GRP_8', 'GRP_3', 'GRP_12',\n",
       "       'GRP_2'], dtype=object)"
      ]
     },
     "execution_count": 21,
     "metadata": {},
     "output_type": "execute_result"
    }
   ],
   "source": [
    "Top_8['Assignment Group'].unique()"
   ]
  },
  {
   "cell_type": "code",
   "execution_count": 22,
   "metadata": {},
   "outputs": [],
   "source": [
    "from sklearn.preprocessing import LabelEncoder\n",
    "label_enc = LabelEncoder()\n",
    "Y = label_enc.fit_transform(Top_8['Assignment Group'])\n",
    "\n",
    "from sklearn.model_selection import train_test_split\n",
    "x_train,x_test,y_train,y_test = train_test_split(Top_8.drop(['Assignment Group','Assignment RE-group'],axis =1),Y,test_size=0.25,random_state=10)"
   ]
  },
  {
   "cell_type": "code",
   "execution_count": 23,
   "metadata": {},
   "outputs": [],
   "source": [
    "# Scaling the data \n",
    "from sklearn.preprocessing import StandardScaler\n",
    "enc = StandardScaler()\n",
    "# Fitting Train Data to prevent data leakage\n",
    "enc.fit(x_train,y_train)\n",
    "# Transforming to scale the data\n",
    "x_train = enc.transform(x_train)\n",
    "x_test = enc.transform(x_test)"
   ]
  },
  {
   "cell_type": "code",
   "execution_count": 24,
   "metadata": {},
   "outputs": [
    {
     "name": "stdout",
     "output_type": "stream",
     "text": [
      "[0.79748464 0.8202304  0.8374709  0.8497974  0.8605256  0.8691793\n",
      " 0.87700266 0.88313687 0.8887204  0.89308774 0.89668405 0.9000014\n",
      " 0.9030936  0.9060697  0.90887654 0.9115759  0.91388315 0.91607827\n",
      " 0.91824085 0.9202089  0.9220039  0.92362523 0.92514336 0.9266594\n",
      " 0.92805195 0.9294286  0.9307111  0.9319644  0.93316174 0.93432957\n",
      " 0.93547076 0.9365847  0.93764395 0.9386744  0.9396493  0.94060856\n",
      " 0.9415518  0.94247735 0.94335437 0.9442119  0.94506454 0.9459039\n",
      " 0.94671017 0.9474916  0.9482556  0.949001   0.9497372  0.95046633\n",
      " 0.9511703  0.95184666 0.9525083  0.9531512  0.95378137 0.9544016\n",
      " 0.95501876 0.9556135  0.9561789  0.9567396  0.95728934 0.95783275\n",
      " 0.95836025 0.9588722  0.95937544 0.9598747  0.9603629  0.9608436\n",
      " 0.9613138  0.9617724  0.9622253  0.96267134 0.963107   0.96353745\n",
      " 0.96396327 0.9643802  0.9647891  0.96518546 0.9655765  0.9659652\n",
      " 0.9663464  0.96671903 0.9670875  0.96745    0.9678073  0.96815765\n",
      " 0.96850187 0.96884537 0.9691809  0.96951085 0.96983576 0.9701534\n",
      " 0.97046924 0.9707754  0.971079   0.97137576 0.971672   0.9719635\n",
      " 0.97224736 0.9725279  0.972805   0.9730771  0.9733457  0.9736111\n",
      " 0.9738713  0.9741275  0.9743815  0.9746318  0.9748805  0.9751268\n",
      " 0.9753688  0.97560954 0.97584975 0.9760871  0.97632045 0.9765491\n",
      " 0.9767759  0.97699916 0.9772181  0.9774335  0.97764665 0.97785604\n",
      " 0.97806287 0.97826695 0.9784673  0.97866696 0.97886366 0.9790583\n",
      " 0.9792501  0.9794412  0.9796285  0.9798145  0.97999746 0.9801782\n",
      " 0.980358   0.98053557 0.98070973 0.9808828  0.9810524  0.9812196\n",
      " 0.9813853  0.98154926 0.9817125  0.98187286 0.98203146 0.98218834\n",
      " 0.98234254 0.9824958  0.9826473  0.98279846 0.98294777 0.9830958\n",
      " 0.9832423  0.98338825 0.9835305  0.9836705  0.9838099  0.98394656\n",
      " 0.98408175 0.98421615 0.98434997 0.9844814  0.9846102  0.98473835\n",
      " 0.98486406 0.98498946 0.9851137  0.98523736 0.98536026 0.9854813\n",
      " 0.9856017  0.9857196  0.9858352  0.9859486  0.98605984 0.9861703\n",
      " 0.98627996 0.9863889  0.98649716 0.9866038  0.98671013 0.9868159\n",
      " 0.98691994 0.9870227  0.98712456 0.98722553 0.98732626 0.9874251\n",
      " 0.98752284 0.9876197  0.98771596 0.9878105  0.98790264 0.98799443\n",
      " 0.988085   0.9881748  0.9882626  0.9883484  0.98843366 0.98851746\n",
      " 0.98860055 0.9886827 ]\n"
     ]
    },
    {
     "data": {
      "image/png": "[encoded data removed]",
      "text/plain": [
       "<Figure size 720x720 with 1 Axes>"
      ]
     },
     "metadata": {
      "needs_background": "light"
     },
     "output_type": "display_data"
    }
   ],
   "source": [
    "# Intializing the PCA model\n",
    "from sklearn.decomposition import PCA\n",
    "# Setting the value of n_components to 15 to get complete variance of the data set\n",
    "pca = PCA(n_components= 200,random_state = 7)\n",
    "pca.fit(x_train) #\n",
    "plt.figure(figsize=(10,10))\n",
    "plt.bar(np.arange(1,201),pca.explained_variance_ratio_)\n",
    "# plt.step(np.arange(1,1025),np.cumsum(pca.explained_variance_ratio_))\n",
    "print(np.cumsum(pca.explained_variance_ratio_))"
   ]
  },
  {
   "cell_type": "code",
   "execution_count": 25,
   "metadata": {},
   "outputs": [
    {
     "data": {
      "text/plain": [
       "PCA(n_components=200, random_state=7)"
      ]
     },
     "execution_count": 25,
     "metadata": {},
     "output_type": "execute_result"
    }
   ],
   "source": [
    "pca = PCA(n_components= 200,random_state = 7)\n",
    "pca.fit(x_train)"
   ]
  },
  {
   "cell_type": "code",
   "execution_count": 26,
   "metadata": {},
   "outputs": [],
   "source": [
    "# Transforming the training , validation and test sets in the new selected attributes\n",
    "x_train = pca.transform(x_train)\n",
    "x_test = pca.transform(x_test)"
   ]
  },
  {
   "cell_type": "code",
   "execution_count": 27,
   "metadata": {},
   "outputs": [
    {
     "name": "stdout",
     "output_type": "stream",
     "text": [
      "SVM Classifier score = 0.7863266652011431\n",
      "SVM Classifier score = 0.8009228740936059\n"
     ]
    }
   ],
   "source": [
    "# Intialising the model\n",
    "from sklearn.svm import SVC\n",
    "svm = SVC(probability= True)\n",
    "\n",
    "# Checking the accuracy of the model on training data\n",
    "svm.fit(x_train,y_train)\n",
    "print('SVM Classifier score = ' + str(svm.score(x_train,y_train)))\n",
    "print('SVM Classifier score = ' + str(svm.score(x_test,y_test)))"
   ]
  },
  {
   "cell_type": "markdown",
   "metadata": {},
   "source": [
    "# Top_5"
   ]
  },
  {
   "cell_type": "code",
   "execution_count": 28,
   "metadata": {},
   "outputs": [
    {
     "name": "stdout",
     "output_type": "stream",
     "text": [
      "69 Groups in dataset have less than 100 samples\n"
     ]
    }
   ],
   "source": [
    "# Selecting the Groups having more than 100 Indiviual records\n",
    "Counts = pd.DataFrame(ELmo_df['Assignment Group'].value_counts())\n",
    "Others = []\n",
    "for Group in ELmo_df['Assignment Group'].unique():\n",
    "    if Counts.loc[Group][0] < 250:\n",
    "        Others.append(Group)\n",
    "print('{0} Groups in dataset have less than 100 samples'.format(len(Others)))\n",
    "\n",
    "ELmo_df['Assignment RE-group'] =ELmo_df['Assignment Group'].apply(lambda x: 'Others' if x in Others else x)"
   ]
  },
  {
   "cell_type": "code",
   "execution_count": 29,
   "metadata": {},
   "outputs": [],
   "source": [
    "Top_5 = ELmo_df[ELmo_df['Assignment RE-group'] != 'Others']"
   ]
  },
  {
   "cell_type": "code",
   "execution_count": 30,
   "metadata": {},
   "outputs": [],
   "source": [
    "from sklearn.preprocessing import LabelEncoder\n",
    "label_enc = LabelEncoder()\n",
    "Y = label_enc.fit_transform(Top_5['Assignment Group'])\n",
    "\n",
    "from sklearn.model_selection import train_test_split\n",
    "x_train,x_test,y_train,y_test = train_test_split(Top_5.drop(['Assignment Group','Assignment RE-group'],axis =1),Y,test_size=0.25,random_state=10)"
   ]
  },
  {
   "cell_type": "code",
   "execution_count": 31,
   "metadata": {},
   "outputs": [],
   "source": [
    "# Scaling the data \n",
    "from sklearn.preprocessing import StandardScaler\n",
    "enc = StandardScaler()\n",
    "# Fitting Train Data to prevent data leakage\n",
    "enc.fit(x_train,y_train)\n",
    "# Transforming to scale the data\n",
    "x_train = enc.transform(x_train)\n",
    "x_test = enc.transform(x_test)"
   ]
  },
  {
   "cell_type": "code",
   "execution_count": 32,
   "metadata": {},
   "outputs": [
    {
     "name": "stdout",
     "output_type": "stream",
     "text": [
      "[0.78875947 0.81391484 0.8316557  0.8444606  0.8558882  0.86602837\n",
      " 0.87408656 0.8813419  0.8868481  0.89137775 0.89529276 0.89876646\n",
      " 0.9019518  0.9049667  0.9078694  0.9106116  0.91298556 0.91527176\n",
      " 0.91742885 0.91947067 0.92127395 0.92298716 0.9246278  0.92619956\n",
      " 0.9276444  0.92907065 0.93042684 0.93176126 0.9329764  0.9341586\n",
      " 0.93531805 0.9364274  0.93750626 0.9385651  0.9395929  0.94059616\n",
      " 0.941577   0.9425214  0.943433   0.94430953 0.9451758  0.94602835\n",
      " 0.946843   0.9476213  0.94838685 0.9491307  0.9498744  0.950608\n",
      " 0.9513313  0.9520244  0.9526942  0.9533381  0.95396924 0.95459414\n",
      " 0.95520306 0.9557945  0.9563736  0.95694435 0.95750624 0.95805144\n",
      " 0.958584   0.95910305 0.95962167 0.96010846 0.9605946  0.96107686\n",
      " 0.9615513  0.96202236 0.9624826  0.9629364  0.9633795  0.96381724\n",
      " 0.96423787 0.96465516 0.9650634  0.9654576  0.9658455  0.9662316\n",
      " 0.9666139  0.9669866  0.96735036 0.9677092  0.9680653  0.9684138\n",
      " 0.9687559  0.96909386 0.9694299  0.9697571  0.9700825  0.97040397\n",
      " 0.9707173  0.97102773 0.9713307  0.97163105 0.97192574 0.9722159\n",
      " 0.9725027  0.9727845  0.9730631  0.9733396  0.9736115  0.97387654\n",
      " 0.9741379  0.9743953  0.9746492  0.9748988  0.97514766 0.9753944\n",
      " 0.9756326  0.9758703  0.9761046  0.9763354  0.9765647  0.9767912\n",
      " 0.9770129  0.97722906 0.97744405 0.9776562  0.977865   0.9780717\n",
      " 0.978277   0.9784802  0.97868156 0.97888094 0.97907776 0.97927153\n",
      " 0.97946125 0.97964865 0.97983354 0.9800154  0.98019516 0.98037374\n",
      " 0.98055017 0.9807238  0.9808966  0.98106736 0.98123467 0.98140126\n",
      " 0.98156637 0.9817292  0.9818904  0.98205006 0.9822063  0.9823607\n",
      " 0.9825138  0.9826655  0.98281676 0.98296577 0.983113   0.9832586\n",
      " 0.98340225 0.98354495 0.9836858  0.9838255  0.9839637  0.98409975\n",
      " 0.9842349  0.9843686  0.9845001  0.98463106 0.9847598  0.98488814\n",
      " 0.9850137  0.98513746 0.9852604  0.9853822  0.98550266 0.98562235\n",
      " 0.9857394  0.9858556  0.98597014 0.9860836  0.9861959  0.9863068\n",
      " 0.98641634 0.98652506 0.98663193 0.9867382  0.98684347 0.9869478\n",
      " 0.9870513  0.9871536  0.98725444 0.98735416 0.9874522  0.98754877\n",
      " 0.98764443 0.98773956 0.9878333  0.98792493 0.98801583 0.98810565\n",
      " 0.98819464 0.9882825  0.98836946 0.9884559  0.9885413  0.9886251\n",
      " 0.9887073  0.98878855]\n"
     ]
    },
    {
     "data": {
      "image/png": "[encoded data removed]",
      "text/plain": [
       "<Figure size 720x720 with 1 Axes>"
      ]
     },
     "metadata": {
      "needs_background": "light"
     },
     "output_type": "display_data"
    }
   ],
   "source": [
    "# Intializing the PCA model\n",
    "from sklearn.decomposition import PCA\n",
    "# Setting the value of n_components to 15 to get complete variance of the data set\n",
    "pca = PCA(n_components= 200,random_state = 7)\n",
    "pca.fit(x_train) #\n",
    "plt.figure(figsize=(10,10))\n",
    "plt.bar(np.arange(1,201),pca.explained_variance_ratio_)\n",
    "# plt.step(np.arange(1,1025),np.cumsum(pca.explained_variance_ratio_))\n",
    "print(np.cumsum(pca.explained_variance_ratio_))"
   ]
  },
  {
   "cell_type": "code",
   "execution_count": 33,
   "metadata": {},
   "outputs": [
    {
     "data": {
      "text/plain": [
       "PCA(n_components=200, random_state=7)"
      ]
     },
     "execution_count": 33,
     "metadata": {},
     "output_type": "execute_result"
    }
   ],
   "source": [
    "pca = PCA(n_components= 200,random_state = 7)\n",
    "pca.fit(x_train)"
   ]
  },
  {
   "cell_type": "code",
   "execution_count": 34,
   "metadata": {},
   "outputs": [],
   "source": [
    "# Transforming the training , validation and test sets in the new selected attributes\n",
    "x_train = pca.transform(x_train)\n",
    "x_test = pca.transform(x_test)"
   ]
  },
  {
   "cell_type": "code",
   "execution_count": 35,
   "metadata": {},
   "outputs": [
    {
     "name": "stdout",
     "output_type": "stream",
     "text": [
      "SVM Classifier score = 0.8879034244887903\n",
      "SVM Classifier score = 0.8810051736881005\n"
     ]
    }
   ],
   "source": [
    "# Intialising the model\n",
    "from sklearn.svm import SVC\n",
    "svm = SVC(probability= True)\n",
    "\n",
    "# Checking the accuracy of the model on training data\n",
    "svm.fit(x_train,y_train)\n",
    "print('SVM Classifier score = ' + str(svm.score(x_train,y_train)))\n",
    "print('SVM Classifier score = ' + str(svm.score(x_test,y_test)))"
   ]
  },
  {
   "cell_type": "code",
   "execution_count": null,
   "metadata": {},
   "outputs": [],
   "source": []
  }
 ],
 "metadata": {
  "kernelspec": {
   "display_name": "Python 3",
   "language": "python",
   "name": "python3"
  },
  "language_info": {
   "codemirror_mode": {
    "name": "ipython",
    "version": 3
   },
   "file_extension": ".py",
   "mimetype": "text/x-python",
   "name": "python",
   "nbconvert_exporter": "python",
   "pygments_lexer": "ipython3",
   "version": "3.8.5"
  }
 },
 "nbformat": 4,
 "nbformat_minor": 4
}
