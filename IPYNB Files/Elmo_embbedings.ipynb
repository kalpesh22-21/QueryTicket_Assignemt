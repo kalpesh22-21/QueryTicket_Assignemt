{
 "cells": [
  {
   "cell_type": "code",
   "execution_count": 16,
   "metadata": {
    "id": "Dz31owtMfHv0"
   },
   "outputs": [],
   "source": [
    "import pandas as pd\n",
    "import numpy as np\n",
    "import matplotlib.pyplot as plt\n",
    "%matplotlib inline\n",
    "import seaborn as sns\n",
    "import re\n",
    "from nltk.corpus import stopwords\n",
    "import pickle"
   ]
  },
  {
   "cell_type": "code",
   "execution_count": 17,
   "metadata": {
    "colab": {
     "base_uri": "https://localhost:8080/"
    },
    "id": "cMJqiI-5gg6b",
    "outputId": "f0dfe6b9-6a2c-42d5-a3b7-7b9d06ecdd20"
   },
   "outputs": [
    {
     "data": {
      "text/plain": [
       "(8432, 12)"
      ]
     },
     "execution_count": 17,
     "metadata": {},
     "output_type": "execute_result"
    }
   ],
   "source": [
    "IT_Ticket_cleaned = pd.read_excel('Cleaned_data.xlsx')\n",
    "IT_Ticket_cleaned.shape"
   ]
  },
  {
   "cell_type": "code",
   "execution_count": 27,
   "metadata": {},
   "outputs": [],
   "source": [
    "# IT_Ticket_cleaned = IT_Ticket_cleaned[IT_Ticket_cleaned['Assignment RE-group'] != 'Others']\n",
    "Empty_Rows = IT_Ticket_cleaned[IT_Ticket_cleaned.isnull().any(axis=1)].index\n",
    "IT_Ticket_cleaned.drop(Empty_Rows,axis = 0,inplace = True)"
   ]
  },
  {
   "cell_type": "code",
   "execution_count": 28,
   "metadata": {
    "colab": {
     "base_uri": "https://localhost:8080/"
    },
    "id": "aw1Ily1TiR7t",
    "outputId": "dd4b78c5-8416-4574-a186-fdb77ee44f5e"
   },
   "outputs": [
    {
     "data": {
      "text/plain": [
       "array(['GRP_0', 'GRP_1', 'GRP_3', 'GRP_4', 'GRP_5', 'GRP_6', 'GRP_7',\n",
       "       'GRP_8', 'GRP_9', 'GRP_10', 'GRP_11', 'GRP_12', 'GRP_13', 'GRP_14',\n",
       "       'GRP_15', 'GRP_16', 'GRP_17', 'GRP_18', 'GRP_19', 'GRP_2',\n",
       "       'GRP_20', 'GRP_21', 'GRP_22', 'GRP_23', 'GRP_24', 'GRP_25',\n",
       "       'GRP_26', 'GRP_27', 'GRP_28', 'GRP_29', 'GRP_30', 'GRP_31',\n",
       "       'GRP_33', 'GRP_34', 'GRP_35', 'GRP_36', 'GRP_37', 'GRP_38',\n",
       "       'GRP_39', 'GRP_40', 'GRP_41', 'GRP_42', 'GRP_43', 'GRP_44',\n",
       "       'GRP_45', 'GRP_46', 'GRP_47', 'GRP_49', 'GRP_50', 'GRP_51',\n",
       "       'GRP_52', 'GRP_53', 'GRP_54', 'GRP_55', 'GRP_56', 'GRP_57',\n",
       "       'GRP_58', 'GRP_59', 'GRP_60', 'GRP_61', 'GRP_32', 'GRP_62',\n",
       "       'GRP_63', 'GRP_64', 'GRP_48', 'GRP_65', 'GRP_66', 'GRP_67',\n",
       "       'GRP_68', 'GRP_69', 'GRP_70', 'GRP_71', 'GRP_72', 'GRP_73'],\n",
       "      dtype=object)"
      ]
     },
     "execution_count": 28,
     "metadata": {},
     "output_type": "execute_result"
    }
   ],
   "source": [
    "IT_Ticket_cleaned['Assignment group'].unique()"
   ]
  },
  {
   "cell_type": "code",
   "execution_count": 29,
   "metadata": {},
   "outputs": [],
   "source": [
    "from sklearn.model_selection import train_test_split\n",
    "\n",
    "x_train,x_test,y_train,y_test = train_test_split(IT_Ticket_cleaned['Cleaned'],IT_Ticket_cleaned['Assignment group'],test_size=0.25,random_state=10)"
   ]
  },
  {
   "cell_type": "code",
   "execution_count": 30,
   "metadata": {
    "id": "E3bpNysnZ_8H"
   },
   "outputs": [],
   "source": [
    "import pickle\n",
    "for i in range(6):\n",
    "    pickled = open(\"elmo_full_train_\" + str(i+1) +\".pickle\",\"rb\")\n",
    "    temp = pickle.load(pickled)\n",
    "    if i == 0:\n",
    "        elmo_train_vectors = temp\n",
    "    else:\n",
    "        elmo_train_vectors = np.concatenate((elmo_train_vectors,temp), axis = 0)"
   ]
  },
  {
   "cell_type": "code",
   "execution_count": 31,
   "metadata": {
    "id": "p2IeH22bbzuO"
   },
   "outputs": [],
   "source": [
    "for i in range(6):\n",
    "    pickled = open(\"elmo_full_test_\" + str(i+1) +\".pickle\",\"rb\")\n",
    "    temp = pickle.load(pickled)\n",
    "    if i == 0:\n",
    "        elmo_test_vectors = temp\n",
    "    else:\n",
    "        elmo_test_vectors = np.concatenate((elmo_test_vectors,temp), axis = 0)"
   ]
  },
  {
   "cell_type": "code",
   "execution_count": 32,
   "metadata": {},
   "outputs": [],
   "source": [
    "X = np.concatenate((elmo_train_vectors,elmo_test_vectors), axis = 0)\n",
    "Y = np.concatenate((y_train,y_test),axis = 0)"
   ]
  },
  {
   "cell_type": "code",
   "execution_count": 33,
   "metadata": {},
   "outputs": [],
   "source": [
    "from sklearn.preprocessing import LabelEncoder\n",
    "label_enc = LabelEncoder()\n",
    "Y = label_enc.fit_transform(Y)"
   ]
  },
  {
   "cell_type": "code",
   "execution_count": 34,
   "metadata": {},
   "outputs": [],
   "source": [
    "from sklearn.model_selection import train_test_split\n",
    "\n",
    "x_train,x_test,y_train,y_test = train_test_split(X,Y,test_size=0.25,random_state=10)"
   ]
  },
  {
   "cell_type": "code",
   "execution_count": 36,
   "metadata": {},
   "outputs": [],
   "source": [
    "from tensorflow.keras.utils import to_categorical\n",
    "y_test= to_categorical(y_test,num_classes = 74)\n",
    "y_train= to_categorical(y_train,num_classes = 74)"
   ]
  },
  {
   "cell_type": "code",
   "execution_count": 44,
   "metadata": {},
   "outputs": [
    {
     "name": "stdout",
     "output_type": "stream",
     "text": [
      "Model: \"sequential_3\"\n",
      "_________________________________________________________________\n",
      "Layer (type)                 Output Shape              Param #   \n",
      "=================================================================\n",
      "dense_6 (Dense)              (None, 500)               512500    \n",
      "_________________________________________________________________\n",
      "dense_7 (Dense)              (None, 74)                37074     \n",
      "=================================================================\n",
      "Total params: 549,574\n",
      "Trainable params: 549,574\n",
      "Non-trainable params: 0\n",
      "_________________________________________________________________\n",
      "None\n"
     ]
    }
   ],
   "source": [
    "from tensorflow.keras.layers import LSTM,Embedding,Flatten,Input,Dense,InputLayer\n",
    "from tensorflow.keras.models import Sequential\n",
    "\n",
    "model = Sequential()\n",
    "model.add(InputLayer(input_shape = (1024,)))\n",
    "model.add(Dense(500))\n",
    "model.add(Dense(74,activation='softmax'))\n",
    "print(model.summary())"
   ]
  },
  {
   "cell_type": "code",
   "execution_count": 45,
   "metadata": {},
   "outputs": [],
   "source": [
    "from tensorflow.keras.optimizers import Adam\n",
    "adam = Adam()\n",
    "\n",
    "model.compile(optimizer=adam,loss = \"categorical_crossentropy\",metrics=['accuracy'])"
   ]
  },
  {
   "cell_type": "code",
   "execution_count": 46,
   "metadata": {},
   "outputs": [
    {
     "name": "stdout",
     "output_type": "stream",
     "text": [
      "Epoch 1/20\n",
      "99/99 [==============================] - 1s 6ms/step - loss: 3.5810 - accuracy: 0.4455 - val_loss: 2.7016 - val_accuracy: 0.5419\n",
      "Epoch 2/20\n",
      "99/99 [==============================] - 0s 5ms/step - loss: 2.4814 - accuracy: 0.5548 - val_loss: 2.2475 - val_accuracy: 0.5371\n",
      "Epoch 3/20\n",
      "99/99 [==============================] - 0s 5ms/step - loss: 1.8899 - accuracy: 0.5884 - val_loss: 2.6560 - val_accuracy: 0.5490\n",
      "Epoch 4/20\n",
      "99/99 [==============================] - 0s 5ms/step - loss: 1.8283 - accuracy: 0.6010 - val_loss: 2.0759 - val_accuracy: 0.5710\n",
      "Epoch 5/20\n",
      "99/99 [==============================] - 0s 5ms/step - loss: 1.7546 - accuracy: 0.6168 - val_loss: 1.9495 - val_accuracy: 0.5624\n",
      "Epoch 6/20\n",
      "99/99 [==============================] - 0s 5ms/step - loss: 1.6340 - accuracy: 0.6349 - val_loss: 1.8212 - val_accuracy: 0.5695\n",
      "Epoch 7/20\n",
      "99/99 [==============================] - 0s 5ms/step - loss: 1.4647 - accuracy: 0.6526 - val_loss: 1.7835 - val_accuracy: 0.5976\n",
      "Epoch 8/20\n",
      "99/99 [==============================] - 0s 5ms/step - loss: 1.3773 - accuracy: 0.6555 - val_loss: 1.9456 - val_accuracy: 0.5814\n",
      "Epoch 9/20\n",
      "99/99 [==============================] - 0s 5ms/step - loss: 1.6343 - accuracy: 0.6462 - val_loss: 1.9213 - val_accuracy: 0.5767\n",
      "Epoch 10/20\n",
      "99/99 [==============================] - 0s 5ms/step - loss: 1.6442 - accuracy: 0.6544 - val_loss: 2.1122 - val_accuracy: 0.5886\n",
      "Epoch 11/20\n",
      "99/99 [==============================] - 0s 5ms/step - loss: 1.5797 - accuracy: 0.6662 - val_loss: 2.1984 - val_accuracy: 0.5957\n",
      "Epoch 12/20\n",
      "99/99 [==============================] - 0s 5ms/step - loss: 1.5629 - accuracy: 0.6743 - val_loss: 1.8107 - val_accuracy: 0.5886\n",
      "Epoch 13/20\n",
      "99/99 [==============================] - 0s 5ms/step - loss: 1.1710 - accuracy: 0.7066 - val_loss: 1.8893 - val_accuracy: 0.5876\n",
      "Epoch 14/20\n",
      "99/99 [==============================] - 0s 5ms/step - loss: 1.3932 - accuracy: 0.6821 - val_loss: 1.9714 - val_accuracy: 0.6005\n",
      "Epoch 15/20\n",
      "99/99 [==============================] - 0s 5ms/step - loss: 1.3408 - accuracy: 0.6889 - val_loss: 2.2362 - val_accuracy: 0.5962\n",
      "Epoch 16/20\n",
      "99/99 [==============================] - 0s 5ms/step - loss: 1.4880 - accuracy: 0.6922 - val_loss: 1.8995 - val_accuracy: 0.5924\n",
      "Epoch 17/20\n",
      "99/99 [==============================] - 0s 5ms/step - loss: 1.4935 - accuracy: 0.6980 - val_loss: 1.6801 - val_accuracy: 0.6176\n",
      "Epoch 18/20\n",
      "99/99 [==============================] - 0s 5ms/step - loss: 1.1469 - accuracy: 0.7193 - val_loss: 1.9517 - val_accuracy: 0.6038\n",
      "Epoch 19/20\n",
      "99/99 [==============================] - 0s 5ms/step - loss: 1.1896 - accuracy: 0.7285 - val_loss: 2.8445 - val_accuracy: 0.5995\n",
      "Epoch 20/20\n",
      "99/99 [==============================] - 0s 5ms/step - loss: 2.0160 - accuracy: 0.6922 - val_loss: 2.0884 - val_accuracy: 0.5905\n"
     ]
    },
    {
     "data": {
      "text/plain": [
       "<tensorflow.python.keras.callbacks.History at 0x1d59a45bdf0>"
      ]
     },
     "execution_count": 46,
     "metadata": {},
     "output_type": "execute_result"
    }
   ],
   "source": [
    "model.fit(x_train,y_train,batch_size=64,epochs=20,validation_data=(x_test,y_test))"
   ]
  },
  {
   "cell_type": "code",
   "execution_count": null,
   "metadata": {},
   "outputs": [],
   "source": [
    "import fasttext\n",
    "\n",
    "model = fasttext.train_supervised(input=\"traindata.txt\") "
   ]
  }
 ],
 "metadata": {
  "colab": {
   "name": "Elmo.ipynb",
   "provenance": []
  },
  "kernelspec": {
   "display_name": "Python 3",
   "language": "python",
   "name": "python3"
  },
  "language_info": {
   "codemirror_mode": {
    "name": "ipython",
    "version": 3
   },
   "file_extension": ".py",
   "mimetype": "text/x-python",
   "name": "python",
   "nbconvert_exporter": "python",
   "pygments_lexer": "ipython3",
   "version": "3.8.5"
  }
 },
 "nbformat": 4,
 "nbformat_minor": 1
}
